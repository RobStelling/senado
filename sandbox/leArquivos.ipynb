{
 "cells": [
  {
   "cell_type": "code",
   "execution_count": 1,
   "metadata": {},
   "outputs": [],
   "source": [
    "# Imports\n",
    "from bs4 import BeautifulSoup\n",
    "from datetime import datetime\n",
    "from matplotlib.ticker import FuncFormatter\n",
    "import argparse\n",
    "import csv\n",
    "import errno\n",
    "import json\n",
    "import locale\n",
    "import matplotlib.pyplot as plt\n",
    "import operator\n",
    "import os\n",
    "import pandas as pd\n",
    "import re\n",
    "\n",
    "os.chdir(\"..\")\n",
    "\n",
    "import rotinas as rtn"
   ]
  },
  {
   "cell_type": "code",
   "execution_count": 2,
   "metadata": {},
   "outputs": [
    {
     "data": {
      "text/plain": [
       "_StoreAction(option_strings=['-l', '--legislatura'], dest='legislatura', nargs=None, const=None, default=55, type=<class 'int'>, choices=None, help='Legislatura de coleta de dados, default: legislatura atual', metavar=None)"
      ]
     },
     "execution_count": 2,
     "metadata": {},
     "output_type": "execute_result"
    }
   ],
   "source": [
    "\"\"\"Lê dados de parlamentares de arquivos CSV e\n",
    "gera gráficos, texto e páginas com o conteúdo\n",
    "\"\"\"\n",
    "\n",
    "locale.setlocale(locale.LC_ALL, 'pt_BR.UTF-8')\n",
    "\n",
    "parser = argparse.ArgumentParser(\n",
    "    description='Coleta dados de gastos de Senadores brasileiros.')\n",
    "\n",
    "parser.add_argument('-G', '--nograph', dest='nograph', action='store_true',\n",
    "                    help='Não gera gráficos')\n",
    "\n",
    "parser.add_argument('-P', '--nopage', dest='nopage', action='store_true',\n",
    "                    help='Não gera a página html')\n",
    "\n",
    "parser.add_argument('-l', '--legislatura', dest='legislatura', type=int, default=55,\n",
    "                    help='Legislatura de coleta de dados, default: legislatura atual')\n",
    "\n",
    "#args = parser.parse_args()"
   ]
  },
  {
   "cell_type": "code",
   "execution_count": 4,
   "metadata": {},
   "outputs": [
    {
     "data": {
      "text/plain": [
       "Namespace(legislatura=55, nograph=True, nopage=True)"
      ]
     },
     "execution_count": 4,
     "metadata": {},
     "output_type": "execute_result"
    }
   ],
   "source": [
    "args = parser.parse_args(\"-l 55 -P -G\".split())\n",
    "args"
   ]
  },
  {
   "cell_type": "code",
   "execution_count": 5,
   "metadata": {},
   "outputs": [
    {
     "name": "stdout",
     "output_type": "stream",
     "text": [
      "Há no senado 128 senadores, distribuidos entre 113 homens e 15 mulheres\n",
      "As mulheres representam 11,72% do total\n",
      "Há 81 senadores em exercício, destes 13 são mulheres\n",
      "As mulheres representam 16,05% deste total\n",
      "O gasto médio de senadores homens em exercício foi de R$ 1.174.243,20\n",
      "O gasto médio de senadores mulheres em exercício foi de R$ 1.106.002,31\n",
      "O gasto médio dos senadores, em exercício e fora de exercício, foi de R$ 948.375,13\n",
      "O montante de despesas parlamentares em 4 anos foi de R$ 100.527.764,00, com media anual de R$ 25.131.941,00\n",
      "\n"
     ]
    }
   ],
   "source": [
    "legislaturaLevantamento = args.legislatura\n",
    "\n",
    "# Lê legislatura e Lista de anos de mandato para contabilização\n",
    "with open(f'csv/{legislaturaLevantamento}_anos.csv', newline='') as arquivoAnos:\n",
    "    anosReader = csv.reader(arquivoAnos)\n",
    "    for row in anosReader:\n",
    "        # Ignora o header (se houver)\n",
    "        if rtn.maiorQue(row[0]) and rtn.maiorQue(row[1]) and rtn.maiorQue(row[2]):\n",
    "            legislaturaAtual = int(row[0])\n",
    "            anos = list(range(int(row[1]), int(row[2]) + 1))\n",
    "            # Quarto campo está no formato aaaa-mm-dd hh:mm:ss.dcmm\n",
    "            # Primeiro separa data de hora\n",
    "            dataColeta, horaColeta = row[3].split(' ')\n",
    "            # Muda data coleta de aaaa-mm-dd para dd/mm/aaaa\n",
    "            dataColeta = dataColeta.split('-')\n",
    "            dataColeta = dataColeta[2] + '/' + \\\n",
    "                dataColeta[1] + '/' + dataColeta[0]\n",
    "            # Descarta os décimos de segundo\n",
    "            horaColeta = horaColeta.split('.')[0]\n",
    "            break\n",
    "arquivoAnos.close()\n",
    "\n",
    "anoAtual = datetime.today().year\n",
    "anos = [ano for ano in anos if ano <= anoAtual]\n",
    "\n",
    "# Lê créditos das fotos\n",
    "with open('csv/creditos.csv', newline='') as creditos:\n",
    "    creditosReader = csv.reader(creditos)\n",
    "    header = next(creditosReader)\n",
    "    listaCredito = {}\n",
    "    for row in creditosReader:\n",
    "        listaCredito[int(row[0].split('.')[0].replace('senador', ''))] = row[1]\n",
    "creditos.close()\n",
    "\n",
    "# Lê DataFrames\n",
    "dadosSenado = pd.read_csv(f'csv/{legislaturaLevantamento}_senado.csv', encoding='utf-8', index_col=0)\n",
    "top = pd.read_csv(f'csv/{legislaturaLevantamento}_top.csv', encoding='utf-8')\n",
    "gastoPartidos = pd.read_csv(f'csv/{legislaturaLevantamento}_gastoPartidos.csv',\n",
    "                            encoding='utf-8', index_col=0)\n",
    "gastoEstados = pd.read_csv(f'csv/{legislaturaLevantamento}_gastoEstados.csv',\n",
    "                           encoding='utf-8', index_col=0)\n",
    "#sexo = pd.read_csv('csv/sexo.csv', encoding='utf-8')\n",
    "sexo = dadosSenado.rename(columns={'Participacao': '(Sexo, Situação)'}).groupby(\n",
    "    ['sexo', 'status'])['(Sexo, Situação)'].count()\n",
    "sexoT = pd.read_csv(f'csv/{legislaturaLevantamento}_sexoT.csv', encoding='utf-8', index_col=0)\n",
    "\n",
    "# Lê arquivo json\n",
    "with open(f'json/{legislaturaLevantamento}_gastosSenadores.json', 'r', encoding='utf-8') as entrada:\n",
    "    gastosSenadores = json.load(entrada)\n",
    "entrada.close()\n",
    "\n",
    "# Calcula dados importantes\n",
    "totalSenadores = len(dadosSenado)\n",
    "totalHomens = len(dadosSenado[dadosSenado.sexo == 'Masculino'])\n",
    "totalMulheres = len(dadosSenado[dadosSenado.sexo == 'Feminino'])\n",
    "totalExercicio = len(dadosSenado[dadosSenado.status == 'Exercicio'])\n",
    "totalMulheresExercicio = dadosSenado.query(\n",
    "    'sexo == \"Feminino\" and status == \"Exercicio\"').count()[0]\n",
    "totalForaExercicio = len(dadosSenado[dadosSenado.status == 'ForaExercicio'])\n",
    "totalGasto = dadosSenado['gastos'].sum()\n",
    "\n",
    "# Não contabiliza parlamentares que ainda não efetuaram gastos no cálculo de médias\n",
    "gastoMedioSenadores = dadosSenado.query('gastos != 0')['gastos'].mean()\n",
    "mediaGastosHomensExercicio = dadosSenado.query(\n",
    "    'gastos != 0 and sexo == \"Masculino\" and status == \"Exercicio\"')['gastos'].mean()\n",
    "mediaGastosMulheresExercicio = dadosSenado.query(\n",
    "    'gastos !=0 and sexo == \"Feminino\" and status == \"Exercicio\"')['gastos'].mean()\n",
    "\n",
    "\n",
    "# Imprime algumas informações do senado, pelos dados coletados\n",
    "print(f'Há no senado {totalSenadores:d} senadores, distribuidos entre {totalHomens:d} homens e {totalMulheres:d} mulheres')\n",
    "print('As mulheres representam ' + locale.format('%.2f',\n",
    "                                                 totalMulheres / totalSenadores * 100) + '% do total')\n",
    "print('Há {:d} senadores em exercício, destes {:d} são mulheres'.format(\n",
    "    totalExercicio, totalMulheresExercicio))\n",
    "print('As mulheres representam ' + locale.format('%.2f',\n",
    "                                                 totalMulheresExercicio / totalExercicio * 100) + '% deste total')\n",
    "print('O gasto médio de senadores homens em exercício foi de ' +\n",
    "      rtn.reais(mediaGastosHomensExercicio))\n",
    "print('O gasto médio de senadores mulheres em exercício foi de ' +\n",
    "      rtn.reais(mediaGastosMulheresExercicio))\n",
    "print('O gasto médio dos senadores, em exercício e fora de exercício, foi de ' +\n",
    "      rtn.reais(gastoMedioSenadores))\n",
    "print('O montante de despesas parlamentares em {:d} anos foi de {}, com media anual de {}\\n'.format(\n",
    "    len(anos), rtn.reais(totalGasto), rtn.reais(totalGasto / len(anos))))"
   ]
  },
  {
   "cell_type": "code",
   "execution_count": 6,
   "metadata": {},
   "outputs": [
    {
     "name": "stdout",
     "output_type": "stream",
     "text": [
      "Gastos do senado por tema:\n",
      "Aluguel de imóveis para escritório político: R$ 16.294.875,33\n",
      "Aquisição de material de consumo: R$ 2.993.966,93\n",
      "Locomoção, hospedagem, alimentação, combustíveis e: R$ 19.074.567,03\n",
      "Divulgação da atividade parlamentar: R$ 11.617.313,02\n",
      "Passagens aéreas, aquáticas e terrestres nacionais: R$ 21.347.632,71\n",
      "Diárias: R$ 1.999.783,70\n",
      "Combustíveis: R$ 965.177,49\n",
      "Outros materiais: R$ 1.261.923,35\n",
      "Correios: R$ 10.220.199,77\n",
      "Contratação de serviços de apoio ao parlamentar: R$ 11.611.313,82\n",
      "Ressarcimento de Passagens: R$ 1.015.430,57\n",
      "Serviços de Segurança Privada: R$ 1.493.563,30\n",
      "Total de gastos: R$ 99.895.747,02\n"
     ]
    }
   ],
   "source": [
    "# Totaliza os gastos do senado por tipo de gasto\n",
    "gastosSenado = {}\n",
    "for senador in gastosSenadores:\n",
    "    for gastos in senador['gastos']:\n",
    "        for caput in gastos['lista']:\n",
    "            if not caput in gastosSenado:\n",
    "                gastosSenado[caput] = gastos['lista'][caput]\n",
    "            else:\n",
    "                gastosSenado[caput] += gastos['lista'][caput]\n",
    "\n",
    "gastosSenado = {caput: round(gastosSenado[caput], 2) for caput in gastosSenado}\n",
    "\n",
    "print(\"Gastos do senado por tema:\")\n",
    "totalizacaoGastosSenado = 0.0\n",
    "for caput in gastosSenado:\n",
    "    totalizacaoGastosSenado += gastosSenado[caput]\n",
    "    print('{}: {}'.format(caput, rtn.reais(round(gastosSenado[caput], 2))))\n",
    "\n",
    "print('Total de gastos: {}'.format(rtn.reais(round(totalizacaoGastosSenado, 2))))"
   ]
  }
 ],
 "metadata": {
  "kernelspec": {
   "display_name": "Python 3",
   "language": "python",
   "name": "python3"
  },
  "language_info": {
   "codemirror_mode": {
    "name": "ipython",
    "version": 3
   },
   "file_extension": ".py",
   "mimetype": "text/x-python",
   "name": "python",
   "nbconvert_exporter": "python",
   "pygments_lexer": "ipython3",
   "version": "3.6.3"
  }
 },
 "nbformat": 4,
 "nbformat_minor": 2
}
